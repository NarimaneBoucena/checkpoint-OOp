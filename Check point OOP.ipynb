{
 "cells": [
  {
   "cell_type": "code",
   "execution_count": 3,
   "id": "54616669",
   "metadata": {},
   "outputs": [],
   "source": [
    "class point3D:\n",
    "    def __init__(self,x,y,z):\n",
    "        self.x=x\n",
    "        self.y=y\n",
    "        self.z=z\n",
    "    def show(self):\n",
    "        return(self.x,self.y,self.z)"
   ]
  },
  {
   "cell_type": "code",
   "execution_count": 4,
   "id": "0c4deed9",
   "metadata": {},
   "outputs": [],
   "source": [
    " class Rectangle:\n",
    "    def __init__ (self,length,width):\n",
    "        self.length=length\n",
    "        self.width=width\n",
    "    def rect (self):\n",
    "        return (self.length,self.width)\n",
    "    def rectangle_area(self):\n",
    "        return self.length*self.width\n",
    "    def rectangle_perimeter(self):\n",
    "        return 2*(self.length+self.width)\n",
    "my_rectangle=Rectangle(3,4)\n",
    "print(my_rectangle.rectangle_area())\n",
    "print(my_rectangle.rectangle_perimeter())"
   ]
  },
  {
   "cell_type": "code",
   "execution_count": 6,
   "id": "4fd5d2d7",
   "metadata": {},
   "outputs": [
    {
     "ename": "SyntaxError",
     "evalue": "invalid syntax (3400778248.py, line 9)",
     "output_type": "error",
     "traceback": [
      "\u001b[1;36m  Input \u001b[1;32mIn [6]\u001b[1;36m\u001b[0m\n\u001b[1;33m    return 2*pi self.r\u001b[0m\n\u001b[1;37m                ^\u001b[0m\n\u001b[1;31mSyntaxError\u001b[0m\u001b[1;31m:\u001b[0m invalid syntax\n"
     ]
    }
   ],
   "source": [
    "class circle:\n",
    "    def init (self,xo,yo,r):\n",
    "        self.xo=xo\n",
    "        self.yo=yo\n",
    "        self.r=r\n",
    "    def s (self):\n",
    "        return pi* self.r\n",
    "    def p (self):\n",
    "        return 2*pi self.r\n",
    "    def inside(self,x,y):\n",
    "        x1=(x -self.xo)**2\n",
    "        y1=(y -self.yo)**2\n",
    "        z=x1+y1\n",
    "        if z== (self.r)**2: \n",
    "             return True\n",
    "        else:\n",
    "            return False\n",
    "calcul=circle(2,3,4) \n",
    "calcul.s()\n",
    "calcul.p()\n",
    "calcul.inside(5,6)\n"
   ]
  },
  {
   "cell_type": "code",
   "execution_count": 7,
   "id": "06bf9fb2",
   "metadata": {},
   "outputs": [],
   "source": [
    "class Bank_Account:\n",
    "    def __init__(self,balance):\n",
    "        self.balance=balance\n",
    "        \n",
    "    def deposit(self):\n",
    "        amount=float(input(\"Enter amount to be deposited: \"))\n",
    "        self.balance =self.balance + amount\n",
    "        print(\"your new balance is {} after deposing {}: \".format(self.balance,amount))\n",
    "        \n",
    "    def withdraw(self):\n",
    "        amount = float(input(\"Enter amount to withdraw: \"))\n",
    "        if self.balance>=amount:\n",
    "            self.balance=self.balance-amount\n",
    "            print(\"your new balance is {} after withdrawing {}: \".format(self.balance,amount))\n",
    "        else:\n",
    "            print(\"Insufficient balance \")"
   ]
  },
  {
   "cell_type": "code",
   "execution_count": null,
   "id": "cf297dcd",
   "metadata": {},
   "outputs": [],
   "source": []
  }
 ],
 "metadata": {
  "kernelspec": {
   "display_name": "Python 3 (ipykernel)",
   "language": "python",
   "name": "python3"
  },
  "language_info": {
   "codemirror_mode": {
    "name": "ipython",
    "version": 3
   },
   "file_extension": ".py",
   "mimetype": "text/x-python",
   "name": "python",
   "nbconvert_exporter": "python",
   "pygments_lexer": "ipython3",
   "version": "3.9.12"
  }
 },
 "nbformat": 4,
 "nbformat_minor": 5
}
